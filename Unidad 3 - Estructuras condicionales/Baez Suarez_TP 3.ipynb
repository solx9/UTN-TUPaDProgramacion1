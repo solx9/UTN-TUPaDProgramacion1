{
 "cells": [
  {
   "cell_type": "code",
   "execution_count": 132,
   "id": "418dcc73",
   "metadata": {},
   "outputs": [
    {
     "name": "stdout",
     "output_type": "stream",
     "text": [
      "Es primavera.\n"
     ]
    }
   ],
   "source": [
    "#10) Utilizando la información aportada en la siguiente tabla sobre las estaciones del año:\n",
    "#● Desde el 21 de diciembre hasta el 20 de marzo (incluidos). Estación en el hemisferio norte INVIERNO. Estación en el\n",
    "#hemisferio sur VERANO\n",
    "#● Desde el 21 de marzo hasta el 20 de junio (incluidos). Estación en el hemisferio norte PRIMAVERA. Estación en el\n",
    "#hemisferio sur OTOÑO\n",
    "#● Desde el 21 de junio hasta el 20 de septiembre (incluidos). Estación en el hemisferio norte VERANO. Estación en el\n",
    "#hemisferio sur INVIERNO\n",
    "#● Desde el 21 de septiembre hasta el 20 de diciembre (incluidos). Estación en el hemisferio norte OTOÑO. Estación en el\n",
    "#hemisferio sur PRIMAVERA\n",
    "\n",
    "#Escribir un programa que pregunte al usuario en cuál hemisferio se encuentra (N/S), qué mes\n",
    "#del año es y qué día es. El programa deberá utilizar esa información para imprimir por pantalla\n",
    "#si el usuario se encuentra en otoño, invierno, primavera o verano.\n",
    "\n",
    "hemisferio = str(input(\"Ingrese en qué hemisferio se encuentra (N/S)\")).upper()\n",
    "mes = int(input(\"Ingrese el mes (1 al 12): \"))\n",
    "dia = int(input(\"Ingrese el día (1 al 31): \"))\n",
    "\n",
    "if hemisferio == \"N\":\n",
    "    if (mes == 7) or (mes == 8) or (mes == 6 and dia >= 21) or (mes == 9 and dia <= 20):\n",
    "        print(\"Es verano.\")\n",
    "    elif (mes == 10) or (mes == 11) or (mes == 9 and dia >= 21) or (mes == 12 and dia <= 20):\n",
    "        print(\"Es otoño.\")\n",
    "    elif (mes == 4) or (mes == 5) or (mes == 3 and dia > 20) or (mes == 6 and dia <= 20):\n",
    "        print(\"Es primavera.\")\n",
    "    else:\n",
    "        print(\"Es invierno.\")\n",
    "\n",
    "if hemisferio == \"S\":\n",
    "    if (mes == 7) or (mes == 8) or (mes == 6 and dia >= 21) or (mes == 9 and dia <= 20):\n",
    "        print(\"Es invierno.\")\n",
    "    elif (mes == 10) or (mes == 11) or (mes == 9 and dia >= 21) or (mes == 12 and dia <= 20):\n",
    "        print(\"Es primavera.\")\n",
    "    elif (mes == 4) or (mes == 5) or (mes == 3 and dia > 20) or (mes == 6 and dia <= 20):\n",
    "        print(\"Es otoño.\")\n",
    "    else:\n",
    "        print(\"Es verano.\")\n"
   ]
  },
  {
   "cell_type": "code",
   "execution_count": 120,
   "id": "1af961e4",
   "metadata": {},
   "outputs": [
    {
     "name": "stdout",
     "output_type": "stream",
     "text": [
      "Muy leve (imperceptible).\n"
     ]
    }
   ],
   "source": [
    "#9) Escribir un programa que pida al usuario la magnitud de un terremoto, clasifique la\n",
    "#magnitud en una de las siguientes categorías según la escala de Richter e imprima el resultado por pantalla:\n",
    "#● Menor que 3: \"Muy leve\" (imperceptible).\n",
    "#● Mayor o igual que 3 y menor que 4: \"Leve\" (ligeramente perceptible).\n",
    "#● Mayor o igual que 4 y menor que 5: \"Moderado\" (sentido por personas, pero generalmente no causa daños).\n",
    "#● Mayor o igual que 5 y menor que 6: \"Fuerte\" (puede causar daños en estructuras débiles).\n",
    "#● Mayor o igual que 6 y menor que 7: \"Muy Fuerte\" (puede causar daños significativos).\n",
    "#● Mayor o igual que 7: \"Extremo\" (puede causar graves daños a gran escala).\n",
    "\n",
    "magnitud = float(input(\"Ingrese la magnitud del terremoto: \"))\n",
    "\n",
    "if magnitud < 3:\n",
    "    print(\"Muy leve (imperceptible).\")\n",
    "elif magnitud >= 3 and magnitud < 4:\n",
    "    print(\"Leve (ligeramente perceptible).\")\n",
    "elif magnitud >= 4 and magnitud < 5:\n",
    "    print(\"Moderado (sentido por personas, pero generalmente no causa daños).\")\n",
    "elif magnitud >= 5 and magnitud < 6:\n",
    "    print(\"Fuerte (puede causar daños en estructuras débiles).\")\n",
    "elif magnitud >= 6 and magnitud < 7:\n",
    "    print(\"Muy fuerte (puede causar daños significativos).\")\n",
    "else:\n",
    "    print(\"Extremo (puede causar graves daños a gran escala).\")"
   ]
  },
  {
   "cell_type": "code",
   "execution_count": null,
   "id": "33193ce6",
   "metadata": {},
   "outputs": [
    {
     "name": "stdout",
     "output_type": "stream",
     "text": [
      "martin\n"
     ]
    }
   ],
   "source": [
    "#8) Escribir un programa que solicite al usuario que ingrese su nombre y el número 1, 2 o 3\n",
    "#dependiendo de la opción que desee:\n",
    "#1. Si quiere su nombre en mayúsculas. Por ejemplo: PEDRO.\n",
    "#2. Si quiere su nombre en minúsculas. Por ejemplo: pedro.\n",
    "#3. Si quiere su nombre con la primera letra mayúscula. Por ejemplo: Pedro.\n",
    "#El programa debe transformar el nombre ingresado de acuerdo a la opción seleccionada por el\n",
    "#usuario e imprimir el resultado por pantalla. Nota: investigue uso de las funciones upper(),\n",
    "#lower() y title() de Python para convertir entre mayúsculas y minúsculas.\n",
    "\n",
    "nombre = str(input(\"Ingrese su nombre: \"))\n",
    "opcion = int(input(\"Ingrese una opción (1, 2 o 3)\"))\n",
    "\n",
    "if opcion == 1:\n",
    "    print(nombre.upper())\n",
    "elif opcion == 2:\n",
    "    print(nombre.lower())\n",
    "elif opcion == 3:\n",
    "    print(nombre.title())"
   ]
  },
  {
   "cell_type": "code",
   "execution_count": null,
   "id": "d09bca6b",
   "metadata": {},
   "outputs": [
    {
     "name": "stdout",
     "output_type": "stream",
     "text": [
      "brasil.\n"
     ]
    }
   ],
   "source": [
    "#7) Escribir un programa que solicite una frase o palabra al usuario. Si el string ingresado\n",
    "#termina con vocal, añadir un signo de exclamación al final e imprimir el string resultante por\n",
    "#pantalla; en caso contrario, dejar el string tal cual lo ingresó el usuario e imprimirlo por\n",
    "#pantalla.\n",
    "\n",
    "texto = str(input(\"Ingrese una frase o palabra: \")).lower()\n",
    "ultletra = texto[-1] #guarda el ultimo caracter de la palabra\n",
    "\n",
    "if (ultletra == \"a\") or (ultletra == \"e\") or (ultletra == \"i\") or (ultletra == \"o\") or (ultletra == \"u\"):\n",
    "    print(texto + \"!\")\n",
    "else:\n",
    "    print(texto)\n"
   ]
  },
  {
   "cell_type": "code",
   "execution_count": null,
   "id": "d6bd95a6",
   "metadata": {},
   "outputs": [
    {
     "name": "stdout",
     "output_type": "stream",
     "text": [
      "Sin sesgo.\n"
     ]
    }
   ],
   "source": [
    "#6) Escribir un programa que tome la lista numeros_aleatorios, calcule su moda, su mediana y su media y \n",
    "# las compare para determinar si hay sesgo positivo, negativo o no hay sesgo. Imprimir el resultado por pantalla.\n",
    "#● Sesgo positivo o a la derecha: cuando la media es mayor que la mediana y, a su vez, la mediana es mayor que la moda.\n",
    "#● Sesgo negativo o a la izquierda: cuando la media es menor que la mediana y, a su vez, la mediana es menor que la moda.\n",
    "#● Sin sesgo: cuando la media, la mediana y la moda son iguales\n",
    "\n",
    "from statistics import mode, median, mean\n",
    "import random\n",
    "\n",
    "numeros_aleatorios = [random.randint(1, 100) for i in range(50)]\n",
    "\n",
    "mode_na = mode(numeros_aleatorios)\n",
    "median_na = median(numeros_aleatorios)\n",
    "mean_na = mean(numeros_aleatorios)\n",
    "\n",
    "if (mean_na > median_na) and (median_na > mode_na):\n",
    "    print(\"Hay sesgo positivo.\")\n",
    "elif (mean_na < median_na) and (median_na < mode_na):\n",
    "    print(\"Hay sesgo negativo.\") \n",
    "elif (mean_na == median_na == mode_na):\n",
    "    print(\"Sin sesgo.\")"
   ]
  },
  {
   "cell_type": "code",
   "execution_count": 29,
   "id": "02b94ef9",
   "metadata": {},
   "outputs": [
    {
     "name": "stdout",
     "output_type": "stream",
     "text": [
      "Por favor, ingrese una contraseña de entre 8 y 14 caracteres.\n"
     ]
    }
   ],
   "source": [
    "#5) Escribir un programa que permita introducir contraseñas de entre 8 y 14 caracteres\n",
    "#(incluyendo 8 y 14). Si el usuario ingresa una contraseña de longitud adecuada, imprimir por en\n",
    "#pantalla el mensaje \"Ha ingresado una contraseña correcta\"; en caso contrario, imprimir por\n",
    "#pantalla \"Por favor, ingrese una contraseña de entre 8 y 14 caracteres\". Nota: investigue el uso\n",
    "#de la función len() en Python para evaluar la cantidad de elementos que tiene un iterable tal\n",
    "#como una lista o un string.\n",
    "\n",
    "contra = input(\"Ingrese su contraseña, debe tener entre 8 y 14 caracteres: \")\n",
    "long_contra = len(contra)\n",
    "\n",
    "if (long_contra >= 8) and (long_contra <= 14):\n",
    "    print(\"Ha ingresado una contraseña correcta.\")\n",
    "else:\n",
    "    print(\"Por favor, ingrese una contraseña de entre 8 y 14 caracteres.\")\n"
   ]
  },
  {
   "cell_type": "code",
   "execution_count": null,
   "id": "c596e713",
   "metadata": {},
   "outputs": [
    {
     "name": "stdout",
     "output_type": "stream",
     "text": [
      "Adulto/a joven.\n"
     ]
    }
   ],
   "source": [
    "#4) Escribir un programa que solicite al usuario su edad e imprima por pantalla a cuál de las\n",
    "#siguientes categorías pertenece:\n",
    "#● Niño/a: menor de 12 años.\n",
    "#● Adolescente: mayor o igual que 12 años y menor que 18 años.\n",
    "#● Adulto/a joven: mayor o igual que 18 años y menor que 30 años.\n",
    "#● Adulto/a: mayor o igual que 30 años.\n",
    "\n",
    "edad = int(input(\"Ingrese su edad: \"))\n",
    "\n",
    "if edad < 12:\n",
    "    print(\"Niño/a.\")\n",
    "elif (edad >= 12) and (edad < 18):\n",
    "    print(\"Adolescente.\")\n",
    "elif (edad >= 18) and (edad < 30):\n",
    "    print(\"Adulto/a joven.\")\n",
    "else:\n",
    "    print(\"Adulto/a.\")"
   ]
  },
  {
   "cell_type": "code",
   "execution_count": null,
   "id": "6c55f84e",
   "metadata": {},
   "outputs": [
    {
     "name": "stdout",
     "output_type": "stream",
     "text": [
      "Por favor, ingrese un número par.\n"
     ]
    }
   ],
   "source": [
    "#3) Escribir un programa que permita ingresar solo números pares. Si el usuario ingresa un\n",
    "#número par, imprimir por en pantalla el mensaje \"Ha ingresado un número par\"; en caso\n",
    "#contrario, imprimir por pantalla \"Por favor, ingrese un número par\". Nota: investigar el uso del\n",
    "#operador de módulo (%) en Python para evaluar si un número es par o impar.\n",
    "\n",
    "numero = int(input(\"Ingrese un número: \"))\n",
    "par = False\n",
    "\n",
    "if numero % 2 == 0:\n",
    "    par = True\n",
    "else:\n",
    "    pass\n",
    "\n",
    "if par:\n",
    "    print(\"Ha ingresado un número par.\")\n",
    "else:\n",
    "    print(\"Por favor, ingrese un número par.\")\n"
   ]
  },
  {
   "cell_type": "code",
   "execution_count": null,
   "id": "aed137bf",
   "metadata": {},
   "outputs": [
    {
     "name": "stdout",
     "output_type": "stream",
     "text": [
      "Aprobado.\n"
     ]
    }
   ],
   "source": [
    "#2) Escribir un programa que solicite su nota al usuario. Si la nota es mayor o igual a 6, deberá\n",
    "#mostrar por pantalla un mensaje que diga “Aprobado”; en caso contrario deberá mostrar el\n",
    "#mensaje “Desaprobado”.\n",
    "\n",
    "nota = float(input(\"Ingresá tu nota: \"))\n",
    "\n",
    "if nota >= 6:\n",
    "    print(\"Aprobado.\")\n",
    "else:\n",
    "    print(\"Desaprobado.\")"
   ]
  },
  {
   "cell_type": "code",
   "execution_count": null,
   "id": "5d0de8c7",
   "metadata": {},
   "outputs": [
    {
     "name": "stdout",
     "output_type": "stream",
     "text": [
      "No es mayor de edad.\n"
     ]
    }
   ],
   "source": [
    "#1)Escribir un programa que solicite la edad del usuario. Si el usuario es mayor de 18 años,\n",
    "#deberá mostrar un mensaje en pantalla que diga “Es mayor de edad”.\n",
    "\n",
    "edad = int(input(\"Ingresá tu edad: \"))\n",
    "\n",
    "if edad >= 18:\n",
    "    print(\"Es mayor de edad.\")\n",
    "else:\n",
    "    print(\"No es mayor de edad.\")"
   ]
  }
 ],
 "metadata": {
  "kernelspec": {
   "display_name": "Python 3",
   "language": "python",
   "name": "python3"
  },
  "language_info": {
   "codemirror_mode": {
    "name": "ipython",
    "version": 3
   },
   "file_extension": ".py",
   "mimetype": "text/x-python",
   "name": "python",
   "nbconvert_exporter": "python",
   "pygments_lexer": "ipython3",
   "version": "3.13.6"
  }
 },
 "nbformat": 4,
 "nbformat_minor": 5
}
